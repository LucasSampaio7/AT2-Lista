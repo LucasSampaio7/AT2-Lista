{
  "nbformat": 4,
  "nbformat_minor": 0,
  "metadata": {
    "colab": {
      "provenance": []
    },
    "kernelspec": {
      "name": "python3",
      "display_name": "Python 3"
    },
    "language_info": {
      "name": "python"
    }
  },
  "cells": [
    {
      "cell_type": "code",
      "source": [
        "ListaDeCompras = ['Tomate','Ovo','Refrigerante','Salgadinho','Chocolate','Pimentão','Cebola','Carne','Frango','Toscana']\n",
        "print(ListaDeCompras)\n"
      ],
      "metadata": {
        "colab": {
          "base_uri": "https://localhost:8080/"
        },
        "id": "1W0fa5pU3BNY",
        "outputId": "61bc35a4-7be1-4676-f730-7140aa9ac77a"
      },
      "execution_count": 6,
      "outputs": [
        {
          "output_type": "stream",
          "name": "stdout",
          "text": [
            "['Tomate', 'Ovo', 'Refrigerante', 'Salgadinho', 'Chocolate', 'Pimentão', 'Cebola', 'Carne', 'Frango', 'Toscana']\n"
          ]
        }
      ]
    },
    {
      "cell_type": "code",
      "source": [
        "ListaDeCompras.insert(6, ['Alface', 'Pepino', 'Cenoura', 'Beterraba', 'Abobrinha'])\n",
        "print(ListaDeCompras)"
      ],
      "metadata": {
        "colab": {
          "base_uri": "https://localhost:8080/"
        },
        "id": "tpCqMAwi6la0",
        "outputId": "91aa84b7-8755-4e13-b21c-a8c474373531"
      },
      "execution_count": 9,
      "outputs": [
        {
          "output_type": "stream",
          "name": "stdout",
          "text": [
            "['Tomate', 'Ovo', 'Refrigerante', 'Salgadinho', 'Chocolate', 'Pimentão', ['Alface', 'Pepino', 'Cenoura', 'Beterraba', 'Abobrinha'], 'Cebola', 'Carne', 'Frango', 'Toscana']\n"
          ]
        }
      ]
    },
    {
      "cell_type": "code",
      "source": [
        "ListaDeCompras.remove('Refrigerante')\n",
        "ListaDeCompras.remove('Salgadinho')\n",
        "ListaDeCompras.remove('Ovo')\n",
        "print(ListaDeCompras)"
      ],
      "metadata": {
        "colab": {
          "base_uri": "https://localhost:8080/"
        },
        "id": "Oeg8IWaz7Y7l",
        "outputId": "50e7bc6c-3f59-4872-fbc2-45ef73afa32e"
      },
      "execution_count": 11,
      "outputs": [
        {
          "output_type": "stream",
          "name": "stdout",
          "text": [
            "['Tomate', 'Chocolate', 'Pimentão', ['Alface', 'Pepino', 'Cenoura', 'Beterraba', 'Abobrinha'], 'Cebola', 'Carne', 'Frango', 'Toscana']\n"
          ]
        }
      ]
    },
    {
      "cell_type": "code",
      "source": [
        "ListaDeCompras.extend(('Feijão','Macarrão','Arroz','Batata'))\n",
        "print(ListaDeCompras)"
      ],
      "metadata": {
        "colab": {
          "base_uri": "https://localhost:8080/"
        },
        "id": "nKAyk3Ce8DD7",
        "outputId": "8b138627-c34f-4403-93ff-141f93409067"
      },
      "execution_count": 15,
      "outputs": [
        {
          "output_type": "stream",
          "name": "stdout",
          "text": [
            "['Tomate', 'Chocolate', 'Pimentão', ['Alface', 'Pepino', 'Cenoura', 'Beterraba', 'Abobrinha'], 'Cebola', 'Carne', 'Frango', 'Toscana', 'Feijão', 'Macarrão', 'Arroz', 'Batata']\n"
          ]
        }
      ]
    },
    {
      "cell_type": "code",
      "source": [
        "ListaDeCompras[3]"
      ],
      "metadata": {
        "colab": {
          "base_uri": "https://localhost:8080/"
        },
        "id": "988fD2QX9BAq",
        "outputId": "4628add4-bbaa-4fd9-87d6-6da066ea8606"
      },
      "execution_count": 22,
      "outputs": [
        {
          "output_type": "execute_result",
          "data": {
            "text/plain": [
              "['Alface', 'Pepino', 'Cenoura', 'Beterraba', 'Abobrinha']"
            ]
          },
          "metadata": {},
          "execution_count": 22
        }
      ]
    },
    {
      "cell_type": "code",
      "source": [
        "ListaDeCompras[5]"
      ],
      "metadata": {
        "colab": {
          "base_uri": "https://localhost:8080/",
          "height": 35
        },
        "id": "4Hinf9Dp-Y-I",
        "outputId": "47743e85-b2bb-4333-8e8d-b9fa4282fea5"
      },
      "execution_count": 23,
      "outputs": [
        {
          "output_type": "execute_result",
          "data": {
            "text/plain": [
              "'Carne'"
            ],
            "application/vnd.google.colaboratory.intrinsic+json": {
              "type": "string"
            }
          },
          "metadata": {},
          "execution_count": 23
        }
      ]
    },
    {
      "cell_type": "code",
      "source": [
        "len(ListaDeCompras)"
      ],
      "metadata": {
        "colab": {
          "base_uri": "https://localhost:8080/"
        },
        "id": "AiBGvh8v-aSY",
        "outputId": "544a9c2b-fa73-4aa8-d280-102c28dcf2ab"
      },
      "execution_count": 26,
      "outputs": [
        {
          "output_type": "execute_result",
          "data": {
            "text/plain": [
              "12"
            ]
          },
          "metadata": {},
          "execution_count": 26
        }
      ]
    },
    {
      "cell_type": "code",
      "source": [
        "print(ListaDeCompras)"
      ],
      "metadata": {
        "colab": {
          "base_uri": "https://localhost:8080/"
        },
        "id": "pdPY726k-hmG",
        "outputId": "7ae06f3b-95fe-49b3-fb6c-1eeee7fdd1ee"
      },
      "execution_count": 25,
      "outputs": [
        {
          "output_type": "stream",
          "name": "stdout",
          "text": [
            "['Tomate', 'Chocolate', 'Pimentão', ['Alface', 'Pepino', 'Cenoura', 'Beterraba', 'Abobrinha'], 'Cebola', 'Carne', 'Frango', 'Toscana', 'Feijão', 'Macarrão', 'Arroz', 'Batata']\n"
          ]
        }
      ]
    }
  ]
}